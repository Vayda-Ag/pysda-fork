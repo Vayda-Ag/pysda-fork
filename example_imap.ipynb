{
 "cells": [
  {
   "cell_type": "code",
   "execution_count": 1,
   "metadata": {},
   "outputs": [],
   "source": [
    "import sys\n",
    "sys.path.append(r\"d:\\gis\\toolboxes\\pysda\")"
   ]
  },
  {
   "cell_type": "code",
   "execution_count": 2,
   "metadata": {},
   "outputs": [],
   "source": [
    "# import pysda modules\n",
    "import sdapoly, sdaprop, sdainterp"
   ]
  },
  {
   "cell_type": "code",
   "execution_count": 3,
   "metadata": {},
   "outputs": [],
   "source": [
    "# get/set an aoi\n",
    "myshp = r\"F:\\ZBOOK\\GIS\\TEMP\\fs.shp\"\n",
    "myaoi = sdapoly.shp(myshp)"
   ]
  },
  {
   "cell_type": "code",
   "execution_count": null,
   "metadata": {},
   "outputs": [],
   "source": [
    "# tell matplot lib to publish here\n",
    "%matplotlib inline\n",
    "\n",
    "# visualize\n",
    "myaoi.plot()"
   ]
  },
  {
   "cell_type": "code",
   "execution_count": 4,
   "metadata": {},
   "outputs": [
    {
     "data": {
      "text/plain": [
       "{'Corrosion of Concrete': 'corcon',\n",
       " 'Corrosion of Steel': 'corsteel',\n",
       " 'Drainage Class': 'drainagecl',\n",
       " 'Hydrologic Group': 'hydgrp',\n",
       " 'Taxonomic Class Name': 'taxclname',\n",
       " 'Taxonomic Order': 'taxorder',\n",
       " 'Taxonomic Suborder': 'taxsuborder',\n",
       " 'Taxonomic Temperature Regime': 'taxtempregime',\n",
       " 'Wind Erodibility Group': 'weg',\n",
       " 'Wind Erodibility Index': 'wei',\n",
       " 't Factor': 'tfact'}"
      ]
     },
     "execution_count": 4,
     "metadata": {},
     "output_type": "execute_result"
    }
   ],
   "source": [
    "# what ssurgo properties can we get?  Three functions tell us.\n",
    "# (numeric) numprops, (categorical)catprops, allprops\n",
    "# aggregation method selected guides which properties are available.\n",
    "\n",
    "# aggregation methods: weighted avergae (wtd_avg),  dominant component numeric (dom_comp_num), minimum maximum (minmax)\n",
    "# can get numeric rpoperties (percent clay, unrubber fiber percent, cation exchange capacity,...)\n",
    "\n",
    "# aggregation methods: dominant component categorical (dom_comp_cat), dominant condition (dom_cond)\n",
    "# can get categorical properties (hydrologic soil group, drainage class, taxonomic order,...)\n",
    "\n",
    "# use column name where assigning proprerty for sdaprop.getprop()\n",
    "# to see the properties\n",
    "\n",
    "# sdaprop.numprops()\n",
    "sdaprop.catprops()\n"
   ]
  },
  {
   "cell_type": "code",
   "execution_count": 5,
   "metadata": {},
   "outputs": [],
   "source": [
    "# now to get SSURGO property, sandtotal_r\n",
    "wtdavg=sdaprop.getprop(df=myaoi,column='mukey',method='wtd_avg',top=0,bottom=100,prop='sandtotal_r',minmax=None,prnt=False,meta=False)"
   ]
  },
  {
   "cell_type": "code",
   "execution_count": 6,
   "metadata": {},
   "outputs": [
    {
     "data": {
      "text/html": [
       "<div>\n",
       "<style scoped>\n",
       "    .dataframe tbody tr th:only-of-type {\n",
       "        vertical-align: middle;\n",
       "    }\n",
       "\n",
       "    .dataframe tbody tr th {\n",
       "        vertical-align: top;\n",
       "    }\n",
       "\n",
       "    .dataframe thead th {\n",
       "        text-align: right;\n",
       "    }\n",
       "</style>\n",
       "<table border=\"1\" class=\"dataframe\">\n",
       "  <thead>\n",
       "    <tr style=\"text-align: right;\">\n",
       "      <th></th>\n",
       "      <th>areasymbol</th>\n",
       "      <th>areaname</th>\n",
       "      <th>muname</th>\n",
       "      <th>musym</th>\n",
       "      <th>mukey</th>\n",
       "      <th>nat_musym</th>\n",
       "      <th>geometry</th>\n",
       "      <th>sandtotal_r</th>\n",
       "    </tr>\n",
       "  </thead>\n",
       "  <tbody>\n",
       "    <tr>\n",
       "      <th>0</th>\n",
       "      <td>NC015</td>\n",
       "      <td>Bertie County, North Carolina</td>\n",
       "      <td>Lynchburg sandy loam</td>\n",
       "      <td>Ly</td>\n",
       "      <td>111444</td>\n",
       "      <td>3qyz</td>\n",
       "      <td>POLYGON ((-76.81374 36.12652, -76.81422 36.12653, -76.81445 36.12663, -76.81450 36.12666, -76.81483 36.12667, -76.81492 36.12671, -76.81497 36.12678, -76.81499 36.12683, -76.81498 36.12692, -76.81494 36.12699, -76.81460 36.12738, -76.81454 36.12750, -76.81450 36.12772, -76.81439 36.12782, -76.81417 36.12781, -76.81401 36.12779, -76.81388 36.12773, -76.81374 36.12764, -76.81365 36.12752, -76.81350 36.12724, -76.81345 36.12685, -76.81341 36.12679, -76.81336 36.12675, -76.81323 36.12669, -76.81334 36.12663, -76.81349 36.12658, -76.81374 36.12652))</td>\n",
       "      <td>60.00</td>\n",
       "    </tr>\n",
       "  </tbody>\n",
       "</table>\n",
       "</div>"
      ],
      "text/plain": [
       "  areasymbol                       areaname                muname musym  \\\n",
       "0      NC015  Bertie County, North Carolina  Lynchburg sandy loam    Ly   \n",
       "\n",
       "    mukey nat_musym  \\\n",
       "0  111444      3qyz   \n",
       "\n",
       "                                                                                                                                                                                                                                                                                                                                                                                                                                                                                                                                                                 geometry  \\\n",
       "0  POLYGON ((-76.81374 36.12652, -76.81422 36.12653, -76.81445 36.12663, -76.81450 36.12666, -76.81483 36.12667, -76.81492 36.12671, -76.81497 36.12678, -76.81499 36.12683, -76.81498 36.12692, -76.81494 36.12699, -76.81460 36.12738, -76.81454 36.12750, -76.81450 36.12772, -76.81439 36.12782, -76.81417 36.12781, -76.81401 36.12779, -76.81388 36.12773, -76.81374 36.12764, -76.81365 36.12752, -76.81350 36.12724, -76.81345 36.12685, -76.81341 36.12679, -76.81336 36.12675, -76.81323 36.12669, -76.81334 36.12663, -76.81349 36.12658, -76.81374 36.12652))   \n",
       "\n",
       "  sandtotal_r  \n",
       "0       60.00  "
      ]
     },
     "execution_count": 6,
     "metadata": {},
     "output_type": "execute_result"
    }
   ],
   "source": [
    "# remove duplicate columns\n",
    "myaoi_cols = myaoi.columns.tolist()\n",
    "wtdavg_cols = wtdavg.columns.tolist()\n",
    "drop_cols = [col for col in wtdavg_cols if col in myaoi_cols and col != 'mukey']\n",
    "wtdavg.drop(columns = drop_cols, inplace = True)\n",
    "\n",
    "# join/merge the results, show first record\n",
    "mymerge = myaoi.merge(wtdavg, how = 'inner', on = 'mukey')\n",
    "mymerge.head(1)"
   ]
  },
  {
   "cell_type": "code",
   "execution_count": null,
   "metadata": {},
   "outputs": [],
   "source": [
    "# visualize\n",
    "import matplotlib.pyplot as plt\n",
    "fig, ax = plt.subplots(1,1)\n",
    "fig.set_size_inches(5,5)\n",
    "mymerge.plot(column = 'sandtotal_r', ax=ax, cmap = 'rainbow',\n",
    "            legend = True)\n",
    "\n",
    "# add a legend\n",
    "leg = ax.get_legend()\n",
    "leg.set_bbox_to_anchor((1.4,1.0))\n",
    "ax.set(title = 'Wind Erodibility Group\\nDominant Condition')\n",
    "\n",
    "plt.show()"
   ]
  },
  {
   "cell_type": "code",
   "execution_count": 7,
   "metadata": {},
   "outputs": [],
   "source": [
    "# mymerge['musym'] = mymerge['musym'].replace('Na', 'Nh')\n",
    "c = mymerge['musym'].unique().tolist()\n",
    "remap = dict()\n",
    "for v in c:\n",
    "    i = c.index(v) + 1\n",
    "    remap[v] = i\n",
    "mymerge['feature.properties.id'] = mymerge['musym'].map(remap)\n",
    "import pandas as pd\n",
    "# mymerge['properties.id'] = mymerge['properties.id']\n",
    "mymerge['sandtotal_r'] = pd.to_numeric(mymerge['sandtotal_r'])\n"
   ]
  },
  {
   "cell_type": "code",
   "execution_count": 10,
   "metadata": {},
   "outputs": [
    {
     "data": {
      "text/plain": [
       "areasymbol                 object\n",
       "areaname                   object\n",
       "muname                     object\n",
       "musym                      object\n",
       "mukey                      object\n",
       "nat_musym                  object\n",
       "geometry                 geometry\n",
       "sandtotal_r               float64\n",
       "feature.properties.id       int64\n",
       "dtype: object"
      ]
     },
     "execution_count": 10,
     "metadata": {},
     "output_type": "execute_result"
    }
   ],
   "source": [
    "mymerge.head(1)\n",
    "mymerge.dtypes"
   ]
  },
  {
   "cell_type": "code",
   "execution_count": 11,
   "metadata": {},
   "outputs": [
    {
     "name": "stderr",
     "output_type": "stream",
     "text": [
      "C:\\Program Files\\ArcGIS\\Pro\\bin\\Python\\envs\\pro27_clone\\lib\\site-packages\\ipykernel_launcher.py:3: UserWarning: Geometry is in a geographic CRS. Results from 'centroid' are likely incorrect. Use 'GeoSeries.to_crs()' to re-project geometries to a projected CRS before this operation.\n",
      "\n",
      "  This is separate from the ipykernel package so we can avoid doing imports until\n"
     ]
    },
    {
     "ename": "ValueError",
     "evalue": "key_on `'properties.id'` not found in GeoJSON.",
     "output_type": "error",
     "traceback": [
      "\u001b[1;31m---------------------------------------------------------------------------\u001b[0m",
      "\u001b[1;31mValueError\u001b[0m                                Traceback (most recent call last)",
      "\u001b[1;32m<ipython-input-11-db8134af298f>\u001b[0m in \u001b[0;36m<module>\u001b[1;34m\u001b[0m\n\u001b[0;32m      7\u001b[0m \u001b[1;31m# fp = folium.GeoJson(mymerge)\u001b[0m\u001b[1;33m\u001b[0m\u001b[1;33m\u001b[0m\u001b[1;33m\u001b[0m\u001b[0m\n\u001b[0;32m      8\u001b[0m \u001b[1;31m# folium.Choropleth(geo_data = mymerge).add_to(m)\u001b[0m\u001b[1;33m\u001b[0m\u001b[1;33m\u001b[0m\u001b[1;33m\u001b[0m\u001b[0m\n\u001b[1;32m----> 9\u001b[1;33m \u001b[0mfolium\u001b[0m\u001b[1;33m.\u001b[0m\u001b[0mChoropleth\u001b[0m\u001b[1;33m(\u001b[0m\u001b[0mgeo_data\u001b[0m \u001b[1;33m=\u001b[0m \u001b[0mmymerge\u001b[0m\u001b[1;33m,\u001b[0m \u001b[0mdata\u001b[0m \u001b[1;33m=\u001b[0m \u001b[0mmymerge\u001b[0m\u001b[1;33m,\u001b[0m \u001b[0mcolumns\u001b[0m \u001b[1;33m=\u001b[0m \u001b[1;33m[\u001b[0m\u001b[1;34m'feature.properties.id'\u001b[0m\u001b[1;33m,\u001b[0m\u001b[1;34m'sandtotal_r'\u001b[0m\u001b[1;33m]\u001b[0m\u001b[1;33m,\u001b[0m \u001b[0mkey_on\u001b[0m \u001b[1;33m=\u001b[0m \u001b[1;34m'feature.properties.id'\u001b[0m\u001b[1;33m,\u001b[0m \u001b[0mfill_color\u001b[0m \u001b[1;33m=\u001b[0m \u001b[1;34m'YlGnBu'\u001b[0m\u001b[1;33m)\u001b[0m\u001b[1;33m.\u001b[0m\u001b[0madd_to\u001b[0m\u001b[1;33m(\u001b[0m\u001b[0mm\u001b[0m\u001b[1;33m)\u001b[0m\u001b[1;33m\u001b[0m\u001b[1;33m\u001b[0m\u001b[0m\n\u001b[0m\u001b[0;32m     10\u001b[0m \u001b[0mm\u001b[0m\u001b[1;33m\u001b[0m\u001b[1;33m\u001b[0m\u001b[0m\n",
      "\u001b[1;32mC:\\Program Files\\ArcGIS\\Pro\\bin\\Python\\envs\\pro27_clone\\lib\\site-packages\\folium\\features.py\u001b[0m in \u001b[0;36m__init__\u001b[1;34m(self, geo_data, data, columns, key_on, bins, fill_color, nan_fill_color, fill_opacity, nan_fill_opacity, line_color, line_weight, line_opacity, name, legend_name, overlay, control, show, topojson, smooth_factor, highlight, **kwargs)\u001b[0m\n\u001b[0;32m   1291\u001b[0m                 \u001b[0mstyle_function\u001b[0m\u001b[1;33m=\u001b[0m\u001b[0mstyle_function\u001b[0m\u001b[1;33m,\u001b[0m\u001b[1;33m\u001b[0m\u001b[1;33m\u001b[0m\u001b[0m\n\u001b[0;32m   1292\u001b[0m                 \u001b[0msmooth_factor\u001b[0m\u001b[1;33m=\u001b[0m\u001b[0msmooth_factor\u001b[0m\u001b[1;33m,\u001b[0m\u001b[1;33m\u001b[0m\u001b[1;33m\u001b[0m\u001b[0m\n\u001b[1;32m-> 1293\u001b[1;33m                 highlight_function=highlight_function if highlight else None)\n\u001b[0m\u001b[0;32m   1294\u001b[0m \u001b[1;33m\u001b[0m\u001b[0m\n\u001b[0;32m   1295\u001b[0m         \u001b[0mself\u001b[0m\u001b[1;33m.\u001b[0m\u001b[0madd_child\u001b[0m\u001b[1;33m(\u001b[0m\u001b[0mself\u001b[0m\u001b[1;33m.\u001b[0m\u001b[0mgeojson\u001b[0m\u001b[1;33m)\u001b[0m\u001b[1;33m\u001b[0m\u001b[1;33m\u001b[0m\u001b[0m\n",
      "\u001b[1;32mC:\\Program Files\\ArcGIS\\Pro\\bin\\Python\\envs\\pro27_clone\\lib\\site-packages\\folium\\features.py\u001b[0m in \u001b[0;36m__init__\u001b[1;34m(self, data, style_function, highlight_function, name, overlay, control, show, smooth_factor, tooltip, embed, popup, zoom_on_click, marker)\u001b[0m\n\u001b[0;32m    502\u001b[0m             \u001b[0mself\u001b[0m\u001b[1;33m.\u001b[0m\u001b[0mconvert_to_feature_collection\u001b[0m\u001b[1;33m(\u001b[0m\u001b[1;33m)\u001b[0m\u001b[1;33m\u001b[0m\u001b[1;33m\u001b[0m\u001b[0m\n\u001b[0;32m    503\u001b[0m             \u001b[1;32mif\u001b[0m \u001b[0mself\u001b[0m\u001b[1;33m.\u001b[0m\u001b[0mstyle\u001b[0m\u001b[1;33m:\u001b[0m\u001b[1;33m\u001b[0m\u001b[1;33m\u001b[0m\u001b[0m\n\u001b[1;32m--> 504\u001b[1;33m                 \u001b[0mself\u001b[0m\u001b[1;33m.\u001b[0m\u001b[0m_validate_function\u001b[0m\u001b[1;33m(\u001b[0m\u001b[0mstyle_function\u001b[0m\u001b[1;33m,\u001b[0m \u001b[1;34m'style_function'\u001b[0m\u001b[1;33m)\u001b[0m\u001b[1;33m\u001b[0m\u001b[1;33m\u001b[0m\u001b[0m\n\u001b[0m\u001b[0;32m    505\u001b[0m                 \u001b[0mself\u001b[0m\u001b[1;33m.\u001b[0m\u001b[0mstyle_function\u001b[0m \u001b[1;33m=\u001b[0m \u001b[0mstyle_function\u001b[0m\u001b[1;33m\u001b[0m\u001b[1;33m\u001b[0m\u001b[0m\n\u001b[0;32m    506\u001b[0m                 \u001b[0mself\u001b[0m\u001b[1;33m.\u001b[0m\u001b[0mstyle_map\u001b[0m \u001b[1;33m=\u001b[0m \u001b[1;33m{\u001b[0m\u001b[1;33m}\u001b[0m\u001b[1;33m\u001b[0m\u001b[1;33m\u001b[0m\u001b[0m\n",
      "\u001b[1;32mC:\\Program Files\\ArcGIS\\Pro\\bin\\Python\\envs\\pro27_clone\\lib\\site-packages\\folium\\features.py\u001b[0m in \u001b[0;36m_validate_function\u001b[1;34m(self, func, name)\u001b[0m\n\u001b[0;32m    567\u001b[0m         \"\"\"\n\u001b[0;32m    568\u001b[0m         \u001b[0mtest_feature\u001b[0m \u001b[1;33m=\u001b[0m \u001b[0mself\u001b[0m\u001b[1;33m.\u001b[0m\u001b[0mdata\u001b[0m\u001b[1;33m[\u001b[0m\u001b[1;34m'features'\u001b[0m\u001b[1;33m]\u001b[0m\u001b[1;33m[\u001b[0m\u001b[1;36m0\u001b[0m\u001b[1;33m]\u001b[0m\u001b[1;33m\u001b[0m\u001b[1;33m\u001b[0m\u001b[0m\n\u001b[1;32m--> 569\u001b[1;33m         \u001b[1;32mif\u001b[0m \u001b[1;32mnot\u001b[0m \u001b[0mcallable\u001b[0m\u001b[1;33m(\u001b[0m\u001b[0mfunc\u001b[0m\u001b[1;33m)\u001b[0m \u001b[1;32mor\u001b[0m \u001b[1;32mnot\u001b[0m \u001b[0misinstance\u001b[0m\u001b[1;33m(\u001b[0m\u001b[0mfunc\u001b[0m\u001b[1;33m(\u001b[0m\u001b[0mtest_feature\u001b[0m\u001b[1;33m)\u001b[0m\u001b[1;33m,\u001b[0m \u001b[0mdict\u001b[0m\u001b[1;33m)\u001b[0m\u001b[1;33m:\u001b[0m\u001b[1;33m\u001b[0m\u001b[1;33m\u001b[0m\u001b[0m\n\u001b[0m\u001b[0;32m    570\u001b[0m             raise ValueError('{} should be a function that accepts items from '\n\u001b[0;32m    571\u001b[0m                              \u001b[1;34m'data[\\'features\\'] and returns a dictionary.'\u001b[0m\u001b[1;33m\u001b[0m\u001b[1;33m\u001b[0m\u001b[0m\n",
      "\u001b[1;32mC:\\Program Files\\ArcGIS\\Pro\\bin\\Python\\envs\\pro27_clone\\lib\\site-packages\\folium\\features.py\u001b[0m in \u001b[0;36mstyle_function\u001b[1;34m(x)\u001b[0m\n\u001b[0;32m   1265\u001b[0m \u001b[1;33m\u001b[0m\u001b[0m\n\u001b[0;32m   1266\u001b[0m         \u001b[1;32mdef\u001b[0m \u001b[0mstyle_function\u001b[0m\u001b[1;33m(\u001b[0m\u001b[0mx\u001b[0m\u001b[1;33m)\u001b[0m\u001b[1;33m:\u001b[0m\u001b[1;33m\u001b[0m\u001b[1;33m\u001b[0m\u001b[0m\n\u001b[1;32m-> 1267\u001b[1;33m             \u001b[0mcolor\u001b[0m\u001b[1;33m,\u001b[0m \u001b[0mopacity\u001b[0m \u001b[1;33m=\u001b[0m \u001b[0mcolor_scale_fun\u001b[0m\u001b[1;33m(\u001b[0m\u001b[0mx\u001b[0m\u001b[1;33m)\u001b[0m\u001b[1;33m\u001b[0m\u001b[1;33m\u001b[0m\u001b[0m\n\u001b[0m\u001b[0;32m   1268\u001b[0m             return {\n\u001b[0;32m   1269\u001b[0m                 \u001b[1;34m'weight'\u001b[0m\u001b[1;33m:\u001b[0m \u001b[0mline_weight\u001b[0m\u001b[1;33m,\u001b[0m\u001b[1;33m\u001b[0m\u001b[1;33m\u001b[0m\u001b[0m\n",
      "\u001b[1;32mC:\\Program Files\\ArcGIS\\Pro\\bin\\Python\\envs\\pro27_clone\\lib\\site-packages\\folium\\features.py\u001b[0m in \u001b[0;36mcolor_scale_fun\u001b[1;34m(x)\u001b[0m\n\u001b[0;32m   1248\u001b[0m                 \u001b[0mkey_of_x\u001b[0m \u001b[1;33m=\u001b[0m \u001b[0mget_by_key\u001b[0m\u001b[1;33m(\u001b[0m\u001b[0mx\u001b[0m\u001b[1;33m,\u001b[0m \u001b[0mkey_on\u001b[0m\u001b[1;33m)\u001b[0m\u001b[1;33m\u001b[0m\u001b[1;33m\u001b[0m\u001b[0m\n\u001b[0;32m   1249\u001b[0m                 \u001b[1;32mif\u001b[0m \u001b[0mkey_of_x\u001b[0m \u001b[1;32mis\u001b[0m \u001b[1;32mNone\u001b[0m\u001b[1;33m:\u001b[0m\u001b[1;33m\u001b[0m\u001b[1;33m\u001b[0m\u001b[0m\n\u001b[1;32m-> 1250\u001b[1;33m                     \u001b[1;32mraise\u001b[0m \u001b[0mValueError\u001b[0m\u001b[1;33m(\u001b[0m\u001b[1;34m\"key_on `{!r}` not found in GeoJSON.\"\u001b[0m\u001b[1;33m.\u001b[0m\u001b[0mformat\u001b[0m\u001b[1;33m(\u001b[0m\u001b[0mkey_on\u001b[0m\u001b[1;33m)\u001b[0m\u001b[1;33m)\u001b[0m\u001b[1;33m\u001b[0m\u001b[1;33m\u001b[0m\u001b[0m\n\u001b[0m\u001b[0;32m   1251\u001b[0m \u001b[1;33m\u001b[0m\u001b[0m\n\u001b[0;32m   1252\u001b[0m                 \u001b[1;32mif\u001b[0m \u001b[0mkey_of_x\u001b[0m \u001b[1;32mnot\u001b[0m \u001b[1;32min\u001b[0m \u001b[0mcolor_data\u001b[0m\u001b[1;33m.\u001b[0m\u001b[0mkeys\u001b[0m\u001b[1;33m(\u001b[0m\u001b[1;33m)\u001b[0m\u001b[1;33m:\u001b[0m\u001b[1;33m\u001b[0m\u001b[1;33m\u001b[0m\u001b[0m\n",
      "\u001b[1;31mValueError\u001b[0m: key_on `'properties.id'` not found in GeoJSON."
     ]
    }
   ],
   "source": [
    "import folium\n",
    "env = mymerge.envelope\n",
    "cent = env.centroid\n",
    "x = cent.x[0]\n",
    "y = cent.y[0]\n",
    "m = folium.Map([y, x], zoom_start = 10, tiles = 'Stamen Terrain')\n",
    "# fp = folium.GeoJson(mymerge)\n",
    "# folium.Choropleth(geo_data = mymerge).add_to(m)\n",
    "folium.Choropleth(geo_data = mymerge, data = mymerge, columns = ['feature.properties.id','sandtotal_r'], key_on = 'feature.properties.id', fill_color = 'YlGnBu').add_to(m)\n",
    "m\n"
   ]
  },
  {
   "cell_type": "code",
   "execution_count": null,
   "metadata": {},
   "outputs": [],
   "source": [
    "import pandas as pd\n",
    "mymerge['sandtotal_r'] = pd.to_numeric(mymerge['sandtotal_r'])"
   ]
  },
  {
   "cell_type": "code",
   "execution_count": null,
   "metadata": {},
   "outputs": [],
   "source": [
    "fp.data.items()"
   ]
  },
  {
   "cell_type": "code",
   "execution_count": null,
   "metadata": {},
   "outputs": [],
   "source": [
    "mymerge"
   ]
  },
  {
   "cell_type": "code",
   "execution_count": null,
   "metadata": {},
   "outputs": [],
   "source": [
    "mymerge.dtypes"
   ]
  },
  {
   "cell_type": "code",
   "execution_count": null,
   "metadata": {},
   "outputs": [],
   "source": []
  }
 ],
 "metadata": {
  "kernelspec": {
   "display_name": "Python 3",
   "language": "python",
   "name": "python3"
  },
  "language_info": {
   "codemirror_mode": {
    "name": "ipython",
    "version": 3
   },
   "file_extension": ".py",
   "mimetype": "text/x-python",
   "name": "python",
   "nbconvert_exporter": "python",
   "pygments_lexer": "ipython3",
   "version": "3.7.9"
  }
 },
 "nbformat": 4,
 "nbformat_minor": 4
}
